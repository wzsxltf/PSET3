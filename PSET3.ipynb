{
 "cells": [
  {
   "cell_type": "code",
   "execution_count": 58,
   "metadata": {},
   "outputs": [],
   "source": [
    "import numpy as np\n",
    "import math\n",
    "import matplotlib.pyplot as plt"
   ]
  },
  {
   "cell_type": "code",
   "execution_count": null,
   "metadata": {},
   "outputs": [],
   "source": []
  },
  {
   "cell_type": "code",
   "execution_count": 59,
   "metadata": {},
   "outputs": [],
   "source": [
    "def Ground_Update(cur_state,wl,wr,t):\n",
    "    next_state=np.zeros((3,1))\n",
    "    \n",
    "    speed_std=130*0.05*2*np.pi/60\n",
    "    nwl=np.random.normal(0,speed_std)\n",
    "    nwr=np.random.normal(0,speed_std)\n",
    "    next_state[0]=cur_state[0][0]+20*t*(wl+nwl-wr-nwr)/85\n",
    "    next_state[1]=cur_state[1][0]+((wl+nwl)*20*t+(wr+nwr)*20*t)/2*math.sin(cur_state[0][0])\n",
    "    next_state[2]=cur_state[2][0]+((wl+nwl)*20*t+(wr+nwr)*20*t)/2*math.cos(cur_state[0][0])\n",
    "    return next_state\n",
    "    "
   ]
  },
  {
   "cell_type": "code",
   "execution_count": 60,
   "metadata": {},
   "outputs": [],
   "source": [
    "def Time_Update(cur_state,wl,wr,t,cur_cov):\n",
    "    next_state=np.zeros((3,1))\n",
    "    next_cov=np.zeros((3,3))\n",
    "    \n",
    "    #mean update\n",
    "    vt=(wl*20*t+wr*20*t)/2\n",
    "    next_state[0]=cur_state[0][0]+20*t*(wl-wr)/85\n",
    "    next_state[1]=cur_state[1][0]+vt*math.sin(cur_state[0][0])\n",
    "    next_state[2]=cur_state[2][0]+vt*math.cos(cur_state[0][0])\n",
    "    \n",
    "    #linearization\n",
    "    speed_std=130*0.05*2*np.pi/60\n",
    "    Ft=np.array([[1,0,0],[-vt*math.sin(cur_state[0][0]),1,0],[vt*math.cos(cur_state[0][0]),0,1]])\n",
    "    Wt=np.array([[t,0],[0,math.cos(cur_state[0][0])*t],[0,math.sin(cur_state[0][0])*t]])\n",
    "    Q=np.array([[speed_std**2, 0], [0, speed_std**2]])\n",
    "    \n",
    "    #covariance update\n",
    "    next_cov=np.dot(np.dot(Ft,cur_cov),Ft.T)+np.dot(np.dot(Wt,Q),Wt.T)\n",
    "    \n",
    "    return next_state,next_cov\n",
    "    "
   ]
  },
  {
   "cell_type": "code",
   "execution_count": 225,
   "metadata": {},
   "outputs": [],
   "source": [
    "def Observation_Update(cur_state,cur_cov):\n",
    "    df=0\n",
    "    dr=0\n",
    "    next_state=np.zeros((3,1))\n",
    "    next_cov=np.zeros((3,3))\n",
    "    yt=np.zeros((3,1))\n",
    "    \n",
    "    theta=cur_state[0][0]\n",
    "    x=cur_state[1][0]\n",
    "    y=cur_state[2][0]\n",
    "    o=theta\n",
    "    \n",
    "    d_std=500*0.03\n",
    "    ndf=np.random.normal(0,d_std)\n",
    "    ndr=np.random.normal(0,d_std)\n",
    "    o_std=np.radians(0.1)\n",
    "    no=np.random.normal(0,o_std)\n",
    "    \n",
    "    H=np.zeros((3,3))\n",
    "    \n",
    "    #Observation of df dr from x y theta\n",
    "    if 0<=o<np.pi/2:\n",
    "        if (500-y)*np.tan(o)>(750-x):\n",
    "            df=(750-x)/np.sin(o)\n",
    "            H[0]=np.array([-(750-x)*np.cos(o)/np.sin(o)**2,-1/np.sin(o),0])\n",
    "        else:\n",
    "            df=(500-y)/np.cos(o)\n",
    "            H[0]=np.array([(500-y)*np.sin(o)/np.cos(o)**2,0,-1/np.cos(o)])\n",
    "            \n",
    "        if y/np.tan(o)>(750-x):\n",
    "            dr=(750-x)/np.cos(o)\n",
    "            H[1]=np.array([(750-x)*np.sin(o)/np.cos(o)**2,-1/np.cos(o),0])\n",
    "        else:\n",
    "            dr=y/np.sin(o)\n",
    "            H[1]=np.array([-y*np.cos(o)/np.sin(o)**2,0,1/np.sin(o)])\n",
    "        \n",
    "    elif np.pi/2<=o<np.pi:\n",
    "        o=o-np.pi/2\n",
    "        if y/np.tan(o)>(750-x):\n",
    "            df=(750-x)/np.cos(o)\n",
    "            H[0]=np.array([(750-x)*np.sin(o)/np.cos(o)**2,-1/np.cos(o),0])\n",
    "        else:\n",
    "            df=y/np.sin(o)\n",
    "            H[0]=np.array([-y*np.cos(o)/np.sin(o)**2,0,1/np.sin(o)])\n",
    "            \n",
    "        if y*np.tan(o)<x:\n",
    "            dr=y/np.cos(o)\n",
    "            H[1]=np.array([y*np.sin(o)/np.cos(o)**2,0,1/np.cos(o)])\n",
    "        else:\n",
    "            dr=x/np.sin(o)\n",
    "            H[1]=np.array([-x*np.cos(o)/np.sin(o)**2,1/np.sin(o),0])\n",
    "            \n",
    "    elif np.pi<=o<3*np.pi/2:\n",
    "        o=o-np.pi\n",
    "        if y*np.tan(o)<x:\n",
    "            df=y/np.cos(o)\n",
    "            H[0]=np.array([y*np.sin(o)/np.cos(o)**2,0,1/np.cos(o)])\n",
    "        else:\n",
    "            df=x/np.sin(o)\n",
    "            H[0]=np.array([-x*np.cos(o)/np.sin(o)**2,1/np.sin(o),0])\n",
    "            \n",
    "        if x*np.tan(o)>(500-y):\n",
    "            dr=(500-y)/np.sin(o)\n",
    "            H[1]=np.array([-(500-y)*np.cos(o)/np.sin(o)**2,0,-1/np.sin(o)])\n",
    "        else:\n",
    "            dr=x/np.cos(o)\n",
    "            H[1]=np.array([x*np.sin(o)/np.cos(o)**2,1/np.cos(o),0])\n",
    "            \n",
    "    elif 3*np.pi/2<=o<2*np.pi:\n",
    "        if x*np.tan(o)>(500-y):\n",
    "            df=(500-y)/np.sin(o)\n",
    "            H[0]=np.array([-(500-y)*np.cos(o)/np.sin(o)**2,0,-1/np.sin(o)])\n",
    "        else:\n",
    "            df=x/np.cos(o)\n",
    "            H[0]=np.array([x*np.sin(o)/np.cos(o)**2,1/np.cos(o),0])\n",
    "            \n",
    "        if (500-y)*np.tan(o)>(750-x):\n",
    "            dr=(750-x)/np.sin(o)\n",
    "            H[1]=np.array([-(750-x)*np.cos(o)/np.sin(o)**2,-1/np.sin(o),0])\n",
    "        else:\n",
    "            dr=(500-y)/np.cos(o)\n",
    "            H[1]=np.array([(500-y)*np.sin(o)/np.cos(o)**2,0,-1/np.cos(o)])\n",
    "            \n",
    "    yt[0][0]=df+ndf\n",
    "    yt[1][0]=dr+ndr\n",
    "    yt[2][0]=theta+no\n",
    "\n",
    "    H[2]=np.array([1,0,0])\n",
    "    R = np.diag([d_std**2,d_std**2,o_std**2])\n",
    "    \n",
    "    #Observation update\n",
    "    Hv=np.linalg.inv(np.dot(np.dot(H,cur_cov),H.T)+R)\n",
    "    next_state=cur_state+np.dot(np.dot(np.dot(cur_cov,H.T),Hv),(yt-np.dot(H,cur_state)))\n",
    "    next_cov=cur_cov-np.dot(np.dot(np.dot(cur_cov,H.T),Hv),np.dot(H,cur_cov))\n",
    "\n",
    "    return next_state,next_cov"
   ]
  },
  {
   "cell_type": "code",
   "execution_count": 270,
   "metadata": {},
   "outputs": [
    {
     "name": "stderr",
     "output_type": "stream",
     "text": [
      "D:\\UCLA\\Anaconda\\lib\\site-packages\\ipykernel_launcher.py:38: RuntimeWarning: divide by zero encountered in double_scalars\n"
     ]
    },
    {
     "data": {
      "image/png": "[encoded data removed]",
      "text/plain": [
       "<matplotlib.figure.Figure at 0x24e7182dfd0>"
      ]
     },
     "metadata": {},
     "output_type": "display_data"
    }
   ],
   "source": [
    "si=[[np.pi/2],[50],[250]]\n",
    "ci=[[np.radians(1),0,0],[0,1,0],[0,0,1]]\n",
    "x_t=[]\n",
    "y_t=[]\n",
    "x_t_e=[]\n",
    "y_t_e=[]\n",
    "x_c=[]\n",
    "y_c=[]\n",
    "s=si\n",
    "c=ci\n",
    "se=si\n",
    "ce=ci\n",
    "se1=si\n",
    "\n",
    "for i in range(40):\n",
    "    t=i/40\n",
    "    s=Ground_Update(s,np.pi/2,np.pi/2,t)\n",
    "    x_t.append(s[1])\n",
    "    y_t.append(s[2])\n",
    "    \n",
    "    [se,ce]=Time_Update(se,np.pi/2,np.pi/2,t,ce)\n",
    "\n",
    "    [se1,ce]=Observation_Update(se,ce)\n",
    "    x_t_e.append(se[1])\n",
    "    y_t_e.append(se[2])\n",
    "    x_c.append(ce[1][1])\n",
    "    y_c.append(ce[2][2])\n",
    "\n",
    "#plot mean path\n",
    "plt.figure()\n",
    "plt.grid(True)\n",
    "plt.xlim((0, 750))\n",
    "plt.ylim((0, 500))\n",
    "plt.plot(x_t, y_t, marker='*')\n",
    "plt.plot(x_t_e, y_t_e, marker='+')\n",
    "plt.legend(['Gound Truth', 'Estimated'])\n",
    "plt.show()"
   ]
  },
  {
   "cell_type": "code",
   "execution_count": 271,
   "metadata": {},
   "outputs": [
    {
     "data": {
      "text/plain": [
       "[<matplotlib.lines.Line2D at 0x24e71d7bc18>]"
      ]
     },
     "execution_count": 271,
     "metadata": {},
     "output_type": "execute_result"
    },
    {
     "data": {
      "image/png": "[encoded data removed]",
      "text/plain": [
       "<matplotlib.figure.Figure at 0x24e7190fb38>"
      ]
     },
     "metadata": {},
     "output_type": "display_data"
    }
   ],
   "source": [
    "plt.plot(y_c)"
   ]
  },
  {
   "cell_type": "code",
   "execution_count": 272,
   "metadata": {},
   "outputs": [
    {
     "data": {
      "text/plain": [
       "[<matplotlib.lines.Line2D at 0x24e7165dba8>]"
      ]
     },
     "execution_count": 272,
     "metadata": {},
     "output_type": "execute_result"
    },
    {
     "data": {
      "image/png": "[encoded data removed]",
      "text/plain": [
       "<matplotlib.figure.Figure at 0x24e71d68978>"
      ]
     },
     "metadata": {},
     "output_type": "display_data"
    }
   ],
   "source": [
    "plt.plot(x_c)"
   ]
  },
  {
   "cell_type": "code",
   "execution_count": 273,
   "metadata": {},
   "outputs": [
    {
     "data": {
      "image/png": "[encoded data removed]",
      "text/plain": [
       "<matplotlib.figure.Figure at 0x24e71be2630>"
      ]
     },
     "metadata": {},
     "output_type": "display_data"
    }
   ],
   "source": [
    "#plot path\n",
    "x_e=np.zeros((40,1))\n",
    "y_e=np.zeros((40,1))\n",
    "for i in range(40):\n",
    "    x_e[i]=np.random.normal(x_t_e[i],0)\n",
    "    y_e[i]=np.random.normal(y_t_e[i],y_c[i])\n",
    "    \n",
    "plt.figure()\n",
    "plt.grid(True)\n",
    "plt.xlim((0, 750))\n",
    "plt.ylim((0, 500))\n",
    "\n",
    "plt.plot(x_t, y_t, marker='*')\n",
    "plt.plot(x_e, y_e, marker='+')\n",
    "plt.legend(['Gound Truth', 'Estimated'])\n",
    "plt.show()"
   ]
  },
  {
   "cell_type": "code",
   "execution_count": null,
   "metadata": {},
   "outputs": [],
   "source": []
  }
 ],
 "metadata": {
  "kernelspec": {
   "display_name": "Python 3",
   "language": "python",
   "name": "python3"
  },
  "language_info": {
   "codemirror_mode": {
    "name": "ipython",
    "version": 3
   },
   "file_extension": ".py",
   "mimetype": "text/x-python",
   "name": "python",
   "nbconvert_exporter": "python",
   "pygments_lexer": "ipython3",
   "version": "3.6.4"
  }
 },
 "nbformat": 4,
 "nbformat_minor": 2
}
